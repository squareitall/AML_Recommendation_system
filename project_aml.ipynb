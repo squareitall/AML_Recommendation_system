{
  "nbformat": 4,
  "nbformat_minor": 0,
  "metadata": {
    "colab": {
      "name": "project_aml.ipynb",
      "provenance": [],
      "collapsed_sections": []
    },
    "kernelspec": {
      "name": "python3",
      "display_name": "Python 3"
    },
    "language_info": {
      "name": "python"
    },
    "accelerator": "GPU"
  },
  "cells": [
    {
      "cell_type": "code",
      "metadata": {
        "id": "bbRT811CGLkD"
      },
      "source": [
        "import pandas as pd\n",
        "import numpy as np\n",
        "\n",
        "import datetime \n",
        "import time\n",
        "\n",
        "from tensorflow.keras.layers import Input, Dense, Embedding, Flatten, Concatenate\n",
        "from tensorflow.keras.models import Model\n",
        "from tensorflow.keras.optimizers import SGD, Adam\n",
        "\n",
        "%matplotlib inline\n",
        "import matplotlib.pyplot as plt \n",
        "import seaborn as sns\n",
        "\n",
        "from sklearn.model_selection import train_test_split\n",
        "from sklearn.linear_model import LogisticRegression\n",
        "from sklearn import metrics\n",
        "\n",
        "from sklearn.utils import shuffle\n"
      ],
      "execution_count": 4,
      "outputs": []
    },
    {
      "cell_type": "code",
      "metadata": {
        "colab": {
          "base_uri": "https://localhost:8080/"
        },
        "id": "9vN3jXzOGSe-",
        "outputId": "1d0a7906-812d-4560-d5b1-fec76a33521f"
      },
      "source": [
        "!unzip -n archive.zip"
      ],
      "execution_count": 5,
      "outputs": [
        {
          "output_type": "stream",
          "name": "stdout",
          "text": [
            "Archive:  archive.zip\n"
          ]
        }
      ]
    },
    {
      "cell_type": "markdown",
      "metadata": {
        "id": "XfWdCMVbIskf"
      },
      "source": [
        "Considering the order of rating preference for an user being defined in the order of viewing-->addtocart and then transaction\n",
        "\n",
        "Log scale signifies that 10 number of views is equivalent to 1 instance of addting to cart\n",
        "Same analogy can be applied to cart:transaction\n",
        "\n",
        "We can keep duplicates of users and items and describe preference order as 1,2 and 3 for viewing, adding and transaction but then tis orinality will make less sense.\n",
        "\n",
        "Else we can play with these values\n"
      ]
    },
    {
      "cell_type": "code",
      "metadata": {
        "id": "Cd_zM5MPR6cB",
        "colab": {
          "resources": {
            "http://localhost:8080/nbextensions/google.colab/files.js": {
              "data": "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",
              "ok": true,
              "headers": [
                [
                  "content-type",
                  "application/javascript"
                ]
              ],
              "status": 200,
              "status_text": ""
            }
          },
          "base_uri": "https://localhost:8080/",
          "height": 42
        },
        "outputId": "df03ab6d-a5a4-4ee5-df1b-3566270e9b12"
      },
      "source": [
        "from google.colab import files\n",
        "uploaded = files.upload()"
      ],
      "execution_count": null,
      "outputs": [
        {
          "output_type": "display_data",
          "data": {
            "text/html": [
              "\n",
              "     <input type=\"file\" id=\"files-c0696627-8ae1-413a-b1f9-3b854ba8b28b\" name=\"files[]\" multiple disabled\n",
              "        style=\"border:none\" />\n",
              "     <output id=\"result-c0696627-8ae1-413a-b1f9-3b854ba8b28b\">\n",
              "      Upload widget is only available when the cell has been executed in the\n",
              "      current browser session. Please rerun this cell to enable.\n",
              "      </output>\n",
              "      <script src=\"/nbextensions/google.colab/files.js\"></script> "
            ],
            "text/plain": [
              "<IPython.core.display.HTML object>"
            ]
          },
          "metadata": {}
        }
      ]
    },
    {
      "cell_type": "code",
      "metadata": {
        "colab": {
          "base_uri": "https://localhost:8080/"
        },
        "id": "vY_Bw8ThSQ54",
        "outputId": "b6ad8e68-a4e0-4565-9858-04613b950f9b"
      },
      "source": [
        "events_df = pd.read_csv('./events.csv')\n",
        "\n",
        "events_df.head()\n",
        "events_df.event.value_counts()"
      ],
      "execution_count": 7,
      "outputs": [
        {
          "output_type": "execute_result",
          "data": {
            "text/plain": [
              "view           2664312\n",
              "addtocart        69332\n",
              "transaction      22457\n",
              "Name: event, dtype: int64"
            ]
          },
          "metadata": {},
          "execution_count": 7
        }
      ]
    },
    {
      "cell_type": "code",
      "metadata": {
        "id": "CyYOK13wGZAJ"
      },
      "source": [
        "events_df = pd.read_csv('./events.csv')\n",
        "\n",
        "events_df.head()\n",
        "# events_df.shape\n",
        "\n",
        "\n",
        "events_df.event.value_counts()\n",
        "# events_df.nunique()\n",
        "#buying as 3,add_to_cart=2,view=1\n",
        "\n",
        "\n",
        "\n",
        "# events_df.dropna(inplace=True)\n",
        "events_df['event_encode']=events_df['event'].map({\n",
        "    'view':0.1,'addtocart':1,'transaction':10\n",
        "})\n",
        "# events_df.drop_duplicates(subset=\n",
        "                          # ['visitorid','itemid']).shape[0]/events_df.shape[0]\n",
        "\n",
        "df_events=events_df.groupby(['visitorid','itemid'])['event_encode'].sum().to_frame('rating').reset_index()"
      ],
      "execution_count": 8,
      "outputs": []
    },
    {
      "cell_type": "code",
      "metadata": {
        "colab": {
          "base_uri": "https://localhost:8080/",
          "height": 300
        },
        "id": "XIYkkQZwTibW",
        "outputId": "3fee0f1c-f153-4785-c03d-4259f8ba3eb2"
      },
      "source": [
        "df_events.describe().round()\n",
        "\n",
        "# df_events."
      ],
      "execution_count": 17,
      "outputs": [
        {
          "output_type": "execute_result",
          "data": {
            "text/html": [
              "<div>\n",
              "<style scoped>\n",
              "    .dataframe tbody tr th:only-of-type {\n",
              "        vertical-align: middle;\n",
              "    }\n",
              "\n",
              "    .dataframe tbody tr th {\n",
              "        vertical-align: top;\n",
              "    }\n",
              "\n",
              "    .dataframe thead th {\n",
              "        text-align: right;\n",
              "    }\n",
              "</style>\n",
              "<table border=\"1\" class=\"dataframe\">\n",
              "  <thead>\n",
              "    <tr style=\"text-align: right;\">\n",
              "      <th></th>\n",
              "      <th>visitorid</th>\n",
              "      <th>itemid</th>\n",
              "      <th>rating</th>\n",
              "    </tr>\n",
              "  </thead>\n",
              "  <tbody>\n",
              "    <tr>\n",
              "      <th>count</th>\n",
              "      <td>2145179.0</td>\n",
              "      <td>2145179.0</td>\n",
              "      <td>2145179.0</td>\n",
              "    </tr>\n",
              "    <tr>\n",
              "      <th>mean</th>\n",
              "      <td>702031.0</td>\n",
              "      <td>234614.0</td>\n",
              "      <td>0.0</td>\n",
              "    </tr>\n",
              "    <tr>\n",
              "      <th>std</th>\n",
              "      <td>405680.0</td>\n",
              "      <td>134116.0</td>\n",
              "      <td>1.0</td>\n",
              "    </tr>\n",
              "    <tr>\n",
              "      <th>min</th>\n",
              "      <td>0.0</td>\n",
              "      <td>3.0</td>\n",
              "      <td>0.0</td>\n",
              "    </tr>\n",
              "    <tr>\n",
              "      <th>25%</th>\n",
              "      <td>350566.0</td>\n",
              "      <td>117673.0</td>\n",
              "      <td>0.0</td>\n",
              "    </tr>\n",
              "    <tr>\n",
              "      <th>50%</th>\n",
              "      <td>702113.0</td>\n",
              "      <td>235401.0</td>\n",
              "      <td>0.0</td>\n",
              "    </tr>\n",
              "    <tr>\n",
              "      <th>75%</th>\n",
              "      <td>1052906.0</td>\n",
              "      <td>350399.0</td>\n",
              "      <td>0.0</td>\n",
              "    </tr>\n",
              "    <tr>\n",
              "      <th>max</th>\n",
              "      <td>1407579.0</td>\n",
              "      <td>466867.0</td>\n",
              "      <td>142.0</td>\n",
              "    </tr>\n",
              "  </tbody>\n",
              "</table>\n",
              "</div>"
            ],
            "text/plain": [
              "       visitorid     itemid     rating\n",
              "count  2145179.0  2145179.0  2145179.0\n",
              "mean    702031.0   234614.0        0.0\n",
              "std     405680.0   134116.0        1.0\n",
              "min          0.0        3.0        0.0\n",
              "25%     350566.0   117673.0        0.0\n",
              "50%     702113.0   235401.0        0.0\n",
              "75%    1052906.0   350399.0        0.0\n",
              "max    1407579.0   466867.0      142.0"
            ]
          },
          "metadata": {},
          "execution_count": 17
        }
      ]
    },
    {
      "cell_type": "code",
      "metadata": {
        "id": "zPwE0ljhTkyC"
      },
      "source": [
        "# df_events.rating.value_counts().astype(float).plot(kind='hist',bins=20)"
      ],
      "execution_count": 18,
      "outputs": []
    },
    {
      "cell_type": "code",
      "metadata": {
        "id": "LVyaex4gJmA6"
      },
      "source": [
        "df_events.loc[:,'cum_rating']=pd.cut(df_events['rating'],bins=[0.1,1,10,1000],right=False,\n",
        "                      labels=[1,2,3],\n",
        "                      include_lowest=True)\n",
        "#Views,addt0cart,transaction\n",
        "\n",
        "df_events.loc[:,'cum_rating']=pd.cut(df_events['rating'],bins=[0.1,0.2,1,10,1000],right=False,\n",
        "                      labels=[1,2,3,4],\n",
        "                      include_lowest=True)\n",
        "df_events.cum_rating.value_counts()\n",
        "df_events.loc[:,'cum_rating']=df_events.loc[:,'cum_rating'].astype(int)\n",
        "#just_views,higher_views,addt0cart,transaction"
      ],
      "execution_count": 25,
      "outputs": []
    },
    {
      "cell_type": "code",
      "metadata": {
        "colab": {
          "base_uri": "https://localhost:8080/"
        },
        "id": "EWfpOnkBWRwd",
        "outputId": "ccfb09c7-03d7-4afc-e836-5b9deab59ba7"
      },
      "source": [
        "df_events.cum_rating.value_counts()\n"
      ],
      "execution_count": 26,
      "outputs": [
        {
          "output_type": "execute_result",
          "data": {
            "text/plain": [
              "2    277000\n",
              "1    180179\n",
              "3     45071\n",
              "4     21315\n",
              "Name: cum_rating, dtype: int64"
            ]
          },
          "metadata": {},
          "execution_count": 26
        }
      ]
    },
    {
      "cell_type": "code",
      "metadata": {
        "colab": {
          "base_uri": "https://localhost:8080/"
        },
        "id": "t_yEbArENz-G",
        "outputId": "a3d1b15f-b166-450e-a234-1891912af3e6"
      },
      "source": [
        "df_events=pd.concat([df_events[df_events.cum_rating==1].sample(int(0.1*df_events[df_events.cum_rating==1].shape[0])),\n",
        "                     df_events[df_events.cum_rating!=1]])\n",
        "df_events.cum_rating.value_counts()\n"
      ],
      "execution_count": 21,
      "outputs": [
        {
          "output_type": "execute_result",
          "data": {
            "text/plain": [
              "2    277000\n",
              "1    180179\n",
              "3     45071\n",
              "4     21315\n",
              "Name: cum_rating, dtype: int64"
            ]
          },
          "metadata": {},
          "execution_count": 21
        }
      ]
    },
    {
      "cell_type": "markdown",
      "metadata": {
        "id": "vI2lSr0pNHv8"
      },
      "source": [
        "Need to have zero start and continuous,increment by 1\n",
        "items and users ids do as to formulate embedder matrix"
      ]
    },
    {
      "cell_type": "code",
      "metadata": {
        "id": "Q7RhaOa8Jnf-"
      },
      "source": [
        "df_events.columns\n",
        "\n",
        "df_events.visitorid = pd.Categorical(df_events.visitorid)\n",
        "df_events['new_vis_id'] = df_events.visitorid.cat.codes\n",
        "\n",
        "df_events.itemid = pd.Categorical(df_events.itemid)\n",
        "df_events['new_item_id'] = df_events.itemid.cat.codes"
      ],
      "execution_count": 27,
      "outputs": []
    },
    {
      "cell_type": "code",
      "metadata": {
        "colab": {
          "base_uri": "https://localhost:8080/",
          "height": 206
        },
        "id": "WHXvtA6xY7of",
        "outputId": "03206972-78b0-4f2c-b7c5-de5f0eb36740"
      },
      "source": [
        "df_events.head()"
      ],
      "execution_count": 31,
      "outputs": [
        {
          "output_type": "execute_result",
          "data": {
            "text/html": [
              "<div>\n",
              "<style scoped>\n",
              "    .dataframe tbody tr th:only-of-type {\n",
              "        vertical-align: middle;\n",
              "    }\n",
              "\n",
              "    .dataframe tbody tr th {\n",
              "        vertical-align: top;\n",
              "    }\n",
              "\n",
              "    .dataframe thead th {\n",
              "        text-align: right;\n",
              "    }\n",
              "</style>\n",
              "<table border=\"1\" class=\"dataframe\">\n",
              "  <thead>\n",
              "    <tr style=\"text-align: right;\">\n",
              "      <th></th>\n",
              "      <th>visitorid</th>\n",
              "      <th>itemid</th>\n",
              "      <th>rating</th>\n",
              "      <th>cum_rating</th>\n",
              "      <th>new_vis_id</th>\n",
              "      <th>new_item_id</th>\n",
              "    </tr>\n",
              "  </thead>\n",
              "  <tbody>\n",
              "    <tr>\n",
              "      <th>58485</th>\n",
              "      <td>38917</td>\n",
              "      <td>242569</td>\n",
              "      <td>0.1</td>\n",
              "      <td>1</td>\n",
              "      <td>10524</td>\n",
              "      <td>62396</td>\n",
              "    </tr>\n",
              "    <tr>\n",
              "      <th>1457367</th>\n",
              "      <td>953096</td>\n",
              "      <td>10934</td>\n",
              "      <td>0.1</td>\n",
              "      <td>1</td>\n",
              "      <td>256841</td>\n",
              "      <td>2779</td>\n",
              "    </tr>\n",
              "    <tr>\n",
              "      <th>571545</th>\n",
              "      <td>372492</td>\n",
              "      <td>162111</td>\n",
              "      <td>0.1</td>\n",
              "      <td>1</td>\n",
              "      <td>100436</td>\n",
              "      <td>41680</td>\n",
              "    </tr>\n",
              "    <tr>\n",
              "      <th>620831</th>\n",
              "      <td>404916</td>\n",
              "      <td>296795</td>\n",
              "      <td>0.1</td>\n",
              "      <td>1</td>\n",
              "      <td>109160</td>\n",
              "      <td>76406</td>\n",
              "    </tr>\n",
              "    <tr>\n",
              "      <th>1762196</th>\n",
              "      <td>1151791</td>\n",
              "      <td>380400</td>\n",
              "      <td>0.1</td>\n",
              "      <td>1</td>\n",
              "      <td>310540</td>\n",
              "      <td>97896</td>\n",
              "    </tr>\n",
              "  </tbody>\n",
              "</table>\n",
              "</div>"
            ],
            "text/plain": [
              "        visitorid  itemid  rating  cum_rating  new_vis_id  new_item_id\n",
              "58485       38917  242569     0.1           1       10524        62396\n",
              "1457367    953096   10934     0.1           1      256841         2779\n",
              "571545     372492  162111     0.1           1      100436        41680\n",
              "620831     404916  296795     0.1           1      109160        76406\n",
              "1762196   1151791  380400     0.1           1      310540        97896"
            ]
          },
          "metadata": {},
          "execution_count": 31
        }
      ]
    },
    {
      "cell_type": "code",
      "metadata": {
        "id": "1XQ3WCMUKzBJ"
      },
      "source": [
        "df_events.describe()\n",
        "# Get user IDs, movie IDs, and ratings as separate arrays\n",
        "user_ids = df_events['new_vis_id'].values\n",
        "item_ids = df_events['new_item_id'].values\n",
        "ratings = df_events['cum_rating'].values"
      ],
      "execution_count": 32,
      "outputs": []
    },
    {
      "cell_type": "code",
      "metadata": {
        "id": "dU28uvEGNDVW",
        "colab": {
          "base_uri": "https://localhost:8080/"
        },
        "outputId": "1f73fe12-ea63-4e79-f23d-3ebc5903e95e"
      },
      "source": [
        "# Get number of users and number of movies\n",
        "N = len(set(user_ids))\n",
        "M = len(set(item_ids))\n",
        "\n",
        "# Set embedding dimension\n",
        "K = 10\n",
        "N,M"
      ],
      "execution_count": 33,
      "outputs": [
        {
          "output_type": "execute_result",
          "data": {
            "text/plain": [
              "(379310, 120053)"
            ]
          },
          "metadata": {},
          "execution_count": 33
        }
      ]
    },
    {
      "cell_type": "code",
      "metadata": {
        "colab": {
          "base_uri": "https://localhost:8080/"
        },
        "id": "Jj9xQgYdPF_A",
        "outputId": "16fe96df-ab39-42ab-8843-64d796446b10"
      },
      "source": [
        "# Make a neural network\n",
        "\n",
        "# User input\n",
        "u = Input(shape=(1,))\n",
        "\n",
        "# Movie input\n",
        "m = Input(shape=(1,))\n",
        "\n",
        "# User embedding\n",
        "u_emb = Embedding(N, K)(u) # output is (num_samples, 1, K)\n",
        "\n",
        "# Movie embedding\n",
        "m_emb = Embedding(M, K)(m) # output is (num_samples, 1, K)#because of definition of embedder matrix\n",
        "\n",
        "#Architecture of the model\n",
        "# Flatten both embeddings\n",
        "u_emb = Flatten()(u_emb) # now it's (num_samples, K)\n",
        "m_emb = Flatten()(m_emb) # now it's (num_samples, K)\n",
        "\n",
        "# Concatenate user-movie embeddings into a feature vector\n",
        "x = Concatenate()([u_emb, m_emb]) # now it's (num_samples, 2K)\n",
        "\n",
        "# Now that we have a feature vector, it's just a regular ANN\n",
        "x = Dense(1024, activation='relu')(x)\n",
        "x = Dense(1)(x)\n",
        "\n",
        "\n",
        "# Build the model and compile\n",
        "model = Model(inputs=[u, m], outputs=x)\n",
        "model.compile(\n",
        "  loss='mse',\n",
        "  optimizer=SGD(lr=0.08, momentum=0.9),\n",
        ")"
      ],
      "execution_count": 34,
      "outputs": [
        {
          "output_type": "stream",
          "name": "stderr",
          "text": [
            "/usr/local/lib/python3.7/dist-packages/keras/optimizer_v2/gradient_descent.py:102: UserWarning: The `lr` argument is deprecated, use `learning_rate` instead.\n",
            "  super(SGD, self).__init__(name, **kwargs)\n"
          ]
        }
      ]
    },
    {
      "cell_type": "code",
      "metadata": {
        "id": "wANTP_z0PaSg"
      },
      "source": [
        "# split the data\n",
        "#will create hold out set later, need to devise a way\n",
        "user_ids, item_ids, ratings = shuffle(user_ids, item_ids, ratings)\n",
        "Ntrain = int(0.85 * len(ratings))\n",
        "\n",
        "train_user = user_ids[:Ntrain]\n",
        "train_item = item_ids[:Ntrain]\n",
        "train_ratings = ratings[:Ntrain]\n",
        "\n",
        "test_user = user_ids[Ntrain:]\n",
        "test_item = item_ids[Ntrain:]\n",
        "test_ratings = ratings[Ntrain:]\n",
        "\n",
        "# # center the ratings\n",
        "# avg_rating = train_ratings.mean()\n",
        "# train_ratings = train_ratings - avg_rating\n",
        "# test_ratings = test_ratings - avg_rating"
      ],
      "execution_count": null,
      "outputs": []
    },
    {
      "cell_type": "code",
      "metadata": {
        "colab": {
          "base_uri": "https://localhost:8080/"
        },
        "id": "OtJRRXMHdmAP",
        "outputId": "e762e42a-003e-49bb-8ea2-96737cc232ff"
      },
      "source": [
        "pow(0.6,1/2)"
      ],
      "execution_count": 35,
      "outputs": [
        {
          "output_type": "execute_result",
          "data": {
            "text/plain": [
              "0.7745966692414834"
            ]
          },
          "metadata": {},
          "execution_count": 35
        }
      ]
    },
    {
      "cell_type": "code",
      "metadata": {
        "colab": {
          "base_uri": "https://localhost:8080/"
        },
        "id": "Kjylx1vmRDff",
        "outputId": "d96b3a3c-2471-44c8-c584-bb2212037752"
      },
      "source": [
        "r = model.fit(\n",
        "  x=[train_user, train_item],\n",
        "  y=train_ratings,\n",
        "  epochs=25,\n",
        "  batch_size=1024,\n",
        "  verbose=2, # goes a little faster when you don't print the progress bar\n",
        "  validation_data=([test_user, test_ratings], test_ratings),\n",
        ")"
      ],
      "execution_count": null,
      "outputs": [
        {
          "output_type": "stream",
          "name": "stdout",
          "text": [
            "Epoch 1/25\n",
            "435/435 - 3s - loss: 0.5852 - val_loss: 0.5635\n",
            "Epoch 2/25\n",
            "435/435 - 2s - loss: 0.5623 - val_loss: 0.5640\n",
            "Epoch 3/25\n",
            "435/435 - 2s - loss: 0.5620 - val_loss: 0.5629\n",
            "Epoch 4/25\n",
            "435/435 - 2s - loss: 0.5610 - val_loss: 0.5590\n",
            "Epoch 5/25\n",
            "435/435 - 2s - loss: 0.5494 - val_loss: 0.5450\n",
            "Epoch 6/25\n",
            "435/435 - 2s - loss: 0.5368 - val_loss: 0.5350\n",
            "Epoch 7/25\n",
            "435/435 - 2s - loss: 0.5245 - val_loss: 0.5283\n",
            "Epoch 8/25\n",
            "435/435 - 2s - loss: 0.5068 - val_loss: 0.5320\n",
            "Epoch 9/25\n",
            "435/435 - 2s - loss: 0.4871 - val_loss: 0.5390\n",
            "Epoch 10/25\n",
            "435/435 - 2s - loss: 0.4646 - val_loss: 0.5605\n",
            "Epoch 11/25\n",
            "435/435 - 2s - loss: 0.4429 - val_loss: 0.5997\n",
            "Epoch 12/25\n",
            "435/435 - 2s - loss: 0.4197 - val_loss: 0.5984\n",
            "Epoch 13/25\n",
            "435/435 - 2s - loss: 0.3967 - val_loss: 0.6359\n",
            "Epoch 14/25\n",
            "435/435 - 2s - loss: 0.3725 - val_loss: 0.7437\n",
            "Epoch 15/25\n",
            "435/435 - 2s - loss: 0.3479 - val_loss: 0.8038\n",
            "Epoch 16/25\n",
            "435/435 - 2s - loss: 0.3232 - val_loss: 0.8680\n",
            "Epoch 17/25\n",
            "435/435 - 2s - loss: 0.2983 - val_loss: 0.9967\n",
            "Epoch 18/25\n",
            "435/435 - 2s - loss: 0.2754 - val_loss: 0.9874\n",
            "Epoch 19/25\n",
            "435/435 - 2s - loss: 0.2532 - val_loss: 1.0062\n",
            "Epoch 20/25\n",
            "435/435 - 2s - loss: 0.2338 - val_loss: 0.9814\n",
            "Epoch 21/25\n",
            "435/435 - 2s - loss: 0.2166 - val_loss: 0.9549\n",
            "Epoch 22/25\n",
            "435/435 - 2s - loss: 0.2002 - val_loss: 1.0097\n",
            "Epoch 23/25\n",
            "435/435 - 2s - loss: 0.1869 - val_loss: 0.9526\n",
            "Epoch 24/25\n",
            "435/435 - 2s - loss: 0.1753 - val_loss: 0.9648\n",
            "Epoch 25/25\n",
            "435/435 - 2s - loss: 0.1647 - val_loss: 0.9578\n"
          ]
        }
      ]
    },
    {
      "cell_type": "code",
      "metadata": {
        "colab": {
          "base_uri": "https://localhost:8080/",
          "height": 265
        },
        "id": "9OYZ7FgXRPQG",
        "outputId": "4bd7ccff-83c0-47a9-d088-95d88da5b113"
      },
      "source": [
        "# plot losses\n",
        "plt.plot(r.history['loss'], label=\"train loss\")\n",
        "plt.plot(r.history['val_loss'], label=\"val loss\")\n",
        "plt.legend()\n",
        "plt.show()"
      ],
      "execution_count": null,
      "outputs": [
        {
          "output_type": "display_data",
          "data": {
            "image/png": "[encoded data removed]",
            "text/plain": [
              "<Figure size 432x288 with 1 Axes>"
            ]
          },
          "metadata": {
            "needs_background": "light"
          }
        }
      ]
    },
    {
      "cell_type": "markdown",
      "metadata": {
        "id": "jEW43MxlYe0d"
      },
      "source": [
        "With lerger training data"
      ]
    },
    {
      "cell_type": "code",
      "metadata": {
        "colab": {
          "base_uri": "https://localhost:8080/",
          "height": 1000
        },
        "id": "1AnfZXVGRSj5",
        "outputId": "8176d649-b0e4-49d5-aa75-43d7859f4920"
      },
      "source": [
        "ii=0.5\n",
        "df_events=pd.concat([df_events[df_events.cum_rating==1].sample(int(ii*df_events[df_events.cum_rating==1].shape[0])),\n",
        "                     df_events[df_events.cum_rating!=1]])\n",
        "df_events.cum_rating.value_counts()\n",
        "\n",
        "\n",
        "df_events.visitorid = pd.Categorical(df_events.visitorid)\n",
        "df_events['new_vis_id'] = df_events.visitorid.cat.codes\n",
        "\n",
        "df_events.itemid = pd.Categorical(df_events.itemid)\n",
        "df_events['new_item_id'] = df_events.itemid.cat.codes\n",
        "\n",
        "\n",
        "\n",
        "user_ids = df_events['new_vis_id'].values\n",
        "item_ids = df_events['new_item_id'].values\n",
        "ratings = df_events['cum_rating'].values\n",
        "\n",
        "\n",
        "# Get number of users and number of movies\n",
        "N = len(set(user_ids))\n",
        "M = len(set(item_ids))\n",
        "# Set embedding dimension\n",
        "K = 10\n",
        "\n",
        "\n",
        "\n",
        "df_train,df_test=train_test_split(df_events,shuffle=True,test_size=0.15,\n",
        "                                  stratify=df_events['cum_rating'].astype(str))\n",
        "\n",
        "train_user = df_train['new_vis_id'].values\n",
        "train_item = df_train['new_item_id'].values\n",
        "train_ratings = df_train['cum_rating'].values\n",
        "\n",
        "test_user = df_test['new_vis_id'].values\n",
        "test_item = df_test['new_item_id'].values\n",
        "test_ratings = df_test['cum_rating'].values\n",
        "\n",
        "# # center the ratings\n",
        "# avg_rating = train_ratings.mean()\n",
        "# train_ratings = train_ratings - avg_rating\n",
        "# test_ratings = test_ratings - avg_rating\n",
        "\n",
        "\n",
        "r = model.fit(\n",
        "  x=[train_user, train_item],\n",
        "  y=train_ratings,\n",
        "  epochs=25,\n",
        "  batch_size=1024,\n",
        "  verbose=2, \n",
        "  validation_data=([test_user, test_ratings], test_ratings),\n",
        ")\n",
        "\n",
        "\n",
        "\n",
        "# plot losses\n",
        "plt.plot(r.history['loss'], label=\"train loss\")\n",
        "plt.plot(r.history['val_loss'], label=\"val loss\")\n",
        "plt.legend()\n",
        "plt.show()"
      ],
      "execution_count": null,
      "outputs": [
        {
          "output_type": "stream",
          "name": "stdout",
          "text": [
            "Epoch 1/25\n",
            "323/323 - 1s - loss: 0.1762 - val_loss: 0.3097\n",
            "Epoch 2/25\n",
            "323/323 - 1s - loss: 0.1637 - val_loss: 0.2980\n",
            "Epoch 3/25\n",
            "323/323 - 1s - loss: 0.1527 - val_loss: 0.3079\n",
            "Epoch 4/25\n",
            "323/323 - 1s - loss: 0.1429 - val_loss: 0.3079\n",
            "Epoch 5/25\n",
            "323/323 - 1s - loss: 0.1348 - val_loss: 0.3247\n",
            "Epoch 6/25\n",
            "323/323 - 1s - loss: 0.1261 - val_loss: 0.3202\n",
            "Epoch 7/25\n",
            "323/323 - 1s - loss: 0.1186 - val_loss: 0.3197\n",
            "Epoch 8/25\n",
            "323/323 - 1s - loss: 0.1095 - val_loss: 0.3209\n",
            "Epoch 9/25\n",
            "323/323 - 1s - loss: 0.1008 - val_loss: 0.3324\n",
            "Epoch 10/25\n",
            "323/323 - 1s - loss: 0.0943 - val_loss: 0.3334\n",
            "Epoch 11/25\n",
            "323/323 - 1s - loss: 0.0871 - val_loss: 0.3321\n",
            "Epoch 12/25\n",
            "323/323 - 1s - loss: 0.0823 - val_loss: 0.3306\n",
            "Epoch 13/25\n",
            "323/323 - 1s - loss: 0.0764 - val_loss: 0.3439\n",
            "Epoch 14/25\n",
            "323/323 - 1s - loss: 0.0710 - val_loss: 0.3609\n",
            "Epoch 15/25\n",
            "323/323 - 1s - loss: 0.0692 - val_loss: 0.3376\n",
            "Epoch 16/25\n",
            "323/323 - 1s - loss: 0.0637 - val_loss: 0.3395\n",
            "Epoch 17/25\n",
            "323/323 - 1s - loss: 0.0604 - val_loss: 0.3460\n",
            "Epoch 18/25\n",
            "323/323 - 1s - loss: 0.0577 - val_loss: 0.3578\n",
            "Epoch 19/25\n",
            "323/323 - 1s - loss: 0.0554 - val_loss: 0.3541\n",
            "Epoch 20/25\n",
            "323/323 - 1s - loss: 0.0540 - val_loss: 0.3454\n",
            "Epoch 21/25\n",
            "323/323 - 1s - loss: 0.0522 - val_loss: 0.3536\n",
            "Epoch 22/25\n",
            "323/323 - 1s - loss: 0.0506 - val_loss: 0.3513\n",
            "Epoch 23/25\n",
            "323/323 - 1s - loss: 0.0482 - val_loss: 0.3521\n",
            "Epoch 24/25\n",
            "323/323 - 1s - loss: 0.0470 - val_loss: 0.3599\n",
            "Epoch 25/25\n",
            "323/323 - 1s - loss: 0.0457 - val_loss: 0.3520\n"
          ]
        },
        {
          "output_type": "display_data",
          "data": {
            "image/png": "[encoded data removed]",
            "text/plain": [
              "<Figure size 432x288 with 1 Axes>"
            ]
          },
          "metadata": {
            "needs_background": "light"
          }
        }
      ]
    },
    {
      "cell_type": "code",
      "metadata": {
        "colab": {
          "base_uri": "https://localhost:8080/",
          "height": 1000
        },
        "id": "JS6OLHTtZfWr",
        "outputId": "2524ea47-1813-4ef2-cbb8-0163692f5e75"
      },
      "source": [
        "ii=0.9\n",
        "df_events=pd.concat([df_events[df_events.cum_rating==1].sample(int(ii*df_events[df_events.cum_rating==1].shape[0])),\n",
        "                     df_events[df_events.cum_rating!=1]])\n",
        "df_events.cum_rating.value_counts()\n",
        "\n",
        "\n",
        "df_events.visitorid = pd.Categorical(df_events.visitorid)\n",
        "df_events['new_vis_id'] = df_events.visitorid.cat.codes\n",
        "\n",
        "df_events.itemid = pd.Categorical(df_events.itemid)\n",
        "df_events['new_item_id'] = df_events.itemid.cat.codes\n",
        "\n",
        "\n",
        "\n",
        "user_ids = df_events['new_vis_id'].values\n",
        "item_ids = df_events['new_item_id'].values\n",
        "ratings = df_events['cum_rating'].values\n",
        "\n",
        "\n",
        "# Get number of users and number of movies\n",
        "N = len(set(user_ids))\n",
        "M = len(set(item_ids))\n",
        "# Set embedding dimension\n",
        "K = 10\n",
        "\n",
        "\n",
        "\n",
        "df_train,df_test=train_test_split(df_events,shuffle=True,test_size=0.15,\n",
        "                                  stratify=df_events['cum_rating'].astype(str))\n",
        "\n",
        "train_user = df_train['new_vis_id'].values\n",
        "train_item = df_train['new_item_id'].values\n",
        "train_ratings = df_train['cum_rating'].values\n",
        "\n",
        "test_user = df_test['new_vis_id'].values\n",
        "test_item = df_test['new_item_id'].values\n",
        "test_ratings = df_test['cum_rating'].values\n",
        "\n",
        "# # center the ratings\n",
        "# avg_rating = train_ratings.mean()\n",
        "# train_ratings = train_ratings - avg_rating\n",
        "# test_ratings = test_ratings - avg_rating\n",
        "\n",
        "\n",
        "r = model.fit(\n",
        "  x=[train_user, train_item],\n",
        "  y=train_ratings,\n",
        "  epochs=25,\n",
        "  batch_size=1024,\n",
        "  verbose=2, \n",
        "  validation_data=([test_user, test_ratings], test_ratings),\n",
        ")\n",
        "\n",
        "\n",
        "\n",
        "# plot losses\n",
        "plt.plot(r.history['loss'], label=\"train loss\")\n",
        "plt.plot(r.history['val_loss'], label=\"val loss\")\n",
        "plt.legend()\n",
        "plt.show()"
      ],
      "execution_count": null,
      "outputs": [
        {
          "output_type": "stream",
          "name": "stdout",
          "text": [
            "Epoch 1/25\n",
            "319/319 - 1s - loss: 0.0772 - val_loss: 0.2704\n",
            "Epoch 2/25\n",
            "319/319 - 1s - loss: 0.0719 - val_loss: 0.2716\n",
            "Epoch 3/25\n",
            "319/319 - 1s - loss: 0.0660 - val_loss: 0.2664\n",
            "Epoch 4/25\n",
            "319/319 - 1s - loss: 0.0630 - val_loss: 0.2814\n",
            "Epoch 5/25\n",
            "319/319 - 1s - loss: 0.0579 - val_loss: 0.2776\n",
            "Epoch 6/25\n",
            "319/319 - 1s - loss: 0.0543 - val_loss: 0.2813\n",
            "Epoch 7/25\n",
            "319/319 - 1s - loss: 0.0513 - val_loss: 0.2772\n",
            "Epoch 8/25\n",
            "319/319 - 1s - loss: 0.0483 - val_loss: 0.2856\n",
            "Epoch 9/25\n",
            "319/319 - 1s - loss: 0.0468 - val_loss: 0.2752\n",
            "Epoch 10/25\n",
            "319/319 - 1s - loss: 0.0457 - val_loss: 0.2862\n",
            "Epoch 11/25\n",
            "319/319 - 1s - loss: 0.0428 - val_loss: 0.2851\n",
            "Epoch 12/25\n",
            "319/319 - 1s - loss: 0.0421 - val_loss: 0.2839\n",
            "Epoch 13/25\n",
            "319/319 - 1s - loss: 0.0401 - val_loss: 0.2761\n",
            "Epoch 14/25\n",
            "319/319 - 1s - loss: 0.0389 - val_loss: 0.2899\n",
            "Epoch 15/25\n",
            "319/319 - 1s - loss: 0.0371 - val_loss: 0.2788\n",
            "Epoch 16/25\n",
            "319/319 - 1s - loss: 0.0363 - val_loss: 0.2798\n",
            "Epoch 17/25\n",
            "319/319 - 1s - loss: 0.0356 - val_loss: 0.2774\n",
            "Epoch 18/25\n",
            "319/319 - 1s - loss: 0.0344 - val_loss: 0.2827\n",
            "Epoch 19/25\n",
            "319/319 - 1s - loss: 0.0337 - val_loss: 0.2966\n",
            "Epoch 20/25\n",
            "319/319 - 1s - loss: 0.0330 - val_loss: 0.3025\n",
            "Epoch 21/25\n",
            "319/319 - 1s - loss: 0.0328 - val_loss: 0.2840\n",
            "Epoch 22/25\n",
            "319/319 - 1s - loss: 0.0317 - val_loss: 0.2976\n",
            "Epoch 23/25\n",
            "319/319 - 1s - loss: 0.0309 - val_loss: 0.2851\n",
            "Epoch 24/25\n",
            "319/319 - 1s - loss: 0.0308 - val_loss: 0.2894\n",
            "Epoch 25/25\n",
            "319/319 - 1s - loss: 0.0303 - val_loss: 0.2850\n"
          ]
        },
        {
          "output_type": "display_data",
          "data": {
            "image/png": "[encoded data removed]",
            "text/plain": [
              "<Figure size 432x288 with 1 Axes>"
            ]
          },
          "metadata": {
            "needs_background": "light"
          }
        }
      ]
    },
    {
      "cell_type": "code",
      "metadata": {
        "id": "eyiJ9AL3a3vA"
      },
      "source": [
        ""
      ],
      "execution_count": null,
      "outputs": []
    }
  ]
}